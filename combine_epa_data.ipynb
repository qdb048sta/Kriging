{
 "cells": [
  {
   "cell_type": "code",
   "execution_count": 2,
   "metadata": {},
   "outputs": [],
   "source": [
    "import pandas as pd\n",
    "import os\n",
    "path=\"D:\\\\User_Data\\\\Downloads\\\\air_pollution\\\\\"\n",
    "os.chdir(path)"
   ]
  },
  {
   "cell_type": "code",
   "execution_count": null,
   "metadata": {},
   "outputs": [],
   "source": [
    "s1=set(df[\"SiteName\"])"
   ]
  },
  {
   "cell_type": "code",
   "execution_count": null,
   "metadata": {},
   "outputs": [],
   "source": []
  },
  {
   "cell_type": "code",
   "execution_count": null,
   "metadata": {},
   "outputs": [],
   "source": [
    "df.merge(coordinate,on=\"SiteName\")"
   ]
  },
  {
   "cell_type": "code",
   "execution_count": null,
   "metadata": {},
   "outputs": [],
   "source": [
    "\n",
    "file=os.listdir()\n",
    "df=pd.read_csv(\"D:\\\\User_Data\\\\Downloads\\\\air_pollution\\\\aqx_p_15_2014-01-01.csv\")\n",
    "empty_columns=df.columns\n",
    "df=pd.DataFrame(empty_columns)\n",
    "for f in file:\n",
    "    air_pollution=pd.read_csv(f)\n",
    "    df=pd.concat([df,air_pollution])\n",
    "df.merge(\"D:\\\\User_Data\\\\Downloads\\\\air_pollution\\\\新增資料夾\\\\coordinate.csv\",on=\"SiteName\")\n",
    "df.to_csv(\"Linko_original_data.csv\")\n",
    "    \n"
   ]
  },
  {
   "cell_type": "code",
   "execution_count": null,
   "metadata": {},
   "outputs": [],
   "source": [
    "os.getcwd()"
   ]
  },
  {
   "cell_type": "code",
   "execution_count": null,
   "metadata": {},
   "outputs": [],
   "source": [
    "os.getcwd()"
   ]
  },
  {
   "cell_type": "code",
   "execution_count": null,
   "metadata": {},
   "outputs": [],
   "source": [
    "df.to_csv(\"linkou_data.csv\")"
   ]
  },
  {
   "cell_type": "code",
   "execution_count": null,
   "metadata": {},
   "outputs": [],
   "source": [
    "coordinate=pd.read_csv(\"D:\\\\User_Data\\\\Downloads\\\\air_pollution\\\\coordinate.csv\")\n",
    "df.merge(coordinate,on=\"SiteName\")\n",
    "df.to_csv(\"Linko_original_data.csv\")"
   ]
  },
  {
   "cell_type": "code",
   "execution_count": null,
   "metadata": {},
   "outputs": [],
   "source": [
    "df.shape"
   ]
  },
  {
   "cell_type": "code",
   "execution_count": null,
   "metadata": {},
   "outputs": [],
   "source": []
  },
  {
   "cell_type": "code",
   "execution_count": null,
   "metadata": {},
   "outputs": [],
   "source": [
    "df.head(40)"
   ]
  },
  {
   "cell_type": "code",
   "execution_count": null,
   "metadata": {},
   "outputs": [],
   "source": []
  },
  {
   "cell_type": "code",
   "execution_count": null,
   "metadata": {},
   "outputs": [],
   "source": [
    "linkou=df[df[\"ItemId\"]>0]\n",
    "linkou=linkou.merge(coordinate,on=\"SiteName\")\n",
    "linkou.shape\n",
    "for i in range(0,24):\n",
    "    if i <10:\n",
    "        linkou[\"MonitorValue0\"+str(i)]=linkou[\"MonitorValue0\"+str(i)].apply(string_convert)\n",
    "    else:\n",
    "        linkou[\"MonitorValue\"+str(i)]=linkou[\"MonitorValue\"+str(i)].apply(string_convert)\n",
    "        \n",
    "for i in range(0,24):\n",
    "    if i <10:\n",
    "        linkou=linkou[linkou[\"MonitorValue0\"+str(i)]!=\"NaN\"]\n",
    "    else:\n",
    "        linkou=linkou[linkou[\"MonitorValue\"+str(i)]!=\"NaN\"]\n",
    "linkou.shape"
   ]
  },
  {
   "cell_type": "code",
   "execution_count": null,
   "metadata": {},
   "outputs": [],
   "source": [
    "linkou.to_csv(\"Linko_original_data.csv\")"
   ]
  },
  {
   "cell_type": "code",
   "execution_count": null,
   "metadata": {},
   "outputs": [],
   "source": [
    "for i in range(0,24):\n",
    "    if i<10:\n",
    "        linkou[\"MonitorValue0\"+str(i)]=linkou[\"MonitorValue0\"+str(i)].apply(intvalue)\n",
    "    else:\n",
    "        linkou[\"MonitorValue\"+str(i)]=linkou[\"MonitorValue\"+str(i)].apply(intvalue)"
   ]
  },
  {
   "cell_type": "code",
   "execution_count": null,
   "metadata": {},
   "outputs": [],
   "source": [
    "subset=linkou.head(100)"
   ]
  },
  {
   "cell_type": "code",
   "execution_count": 24,
   "metadata": {},
   "outputs": [],
   "source": [
    "def day_average(x1,x2,x3,x4,x5,x6,x7,x8,x9,x10,x11,x12,x13,x14,x15,x16,x17,x18,x19,x20,x21,x22,x23,x24):\n",
    "    dayavg=(x1+x2+x3+x4+x5+x6+x7+x8+x9+x10+x11+x12+x13+x14+x15+x16+x17+x18+x19+x20+x21+x22+x23+x24)/24\n",
    "    return dayavg\n",
    "def day_max(x1,x2,x3,x4,x5,x6,x7,x8,x9,x10,x11,x12,x13,x14,x15,x16,x17,x18,x19,x20,x21,x22,x23,x24):\n",
    "    daymax=max([x1,x2,x3,x4,x5,x6,x7,x8,x9,x10,x11,x12,x13,x14,x15,x16,x17,x18,x19,x20,x21,x22,x23,x24])\n",
    "    return daymax\n",
    "def string_convert(x):\n",
    "    try:\n",
    "        value=float(x)\n",
    "    except :\n",
    "        value=\"NaN\"\n",
    "    return value\n",
    "def date(x):\n",
    "    date=x[0:10]\n",
    "    return date"
   ]
  },
  {
   "cell_type": "code",
   "execution_count": 23,
   "metadata": {},
   "outputs": [
    {
     "data": {
      "text/plain": [
       "'123456789'"
      ]
     },
     "execution_count": 23,
     "metadata": {},
     "output_type": "execute_result"
    }
   ],
   "source": [
    "\"1234567890\"[0:9]"
   ]
  },
  {
   "cell_type": "code",
   "execution_count": null,
   "metadata": {},
   "outputs": [],
   "source": [
    "subset[\"test\"]=subset.apply(lambda x: average(x.MonitorValue00,x.MonitorValue01))"
   ]
  },
  {
   "cell_type": "code",
   "execution_count": null,
   "metadata": {},
   "outputs": [],
   "source": [
    "float(\"1.5\")"
   ]
  },
  {
   "cell_type": "code",
   "execution_count": null,
   "metadata": {},
   "outputs": [],
   "source": [
    "linkou[linkou[\"MonitorValue00\"]==\"NaN\"]"
   ]
  },
  {
   "cell_type": "code",
   "execution_count": null,
   "metadata": {},
   "outputs": [],
   "source": []
  },
  {
   "cell_type": "code",
   "execution_count": null,
   "metadata": {},
   "outputs": [],
   "source": []
  },
  {
   "cell_type": "code",
   "execution_count": 11,
   "metadata": {
    "scrolled": true
   },
   "outputs": [],
   "source": [
    "linkou[\"avg\"]=linkou.apply(lambda x:day_average(x[\"MonitorValue00\"],\n",
    "                                                x[\"MonitorValue01\"],\n",
    "                                                x[\"MonitorValue02\"],\n",
    "                                                x[\"MonitorValue03\"],\n",
    "                                                x[\"MonitorValue04\"],\n",
    "                                                x[\"MonitorValue05\"],\n",
    "                                                x[\"MonitorValue06\"],\n",
    "                                                x[\"MonitorValue07\"],\n",
    "                                                x[\"MonitorValue08\"],\n",
    "                                                x[\"MonitorValue09\"],\n",
    "                                                x[\"MonitorValue10\"],\n",
    "                                                x[\"MonitorValue11\"],\n",
    "                                                x[\"MonitorValue12\"],\n",
    "                                                x[\"MonitorValue13\"],\n",
    "                                                x[\"MonitorValue14\"],\n",
    "                                                x[\"MonitorValue15\"],\n",
    "                                                x[\"MonitorValue16\"],\n",
    "                                                x[\"MonitorValue17\"],\n",
    "                                                x[\"MonitorValue18\"],\n",
    "                                                x[\"MonitorValue19\"],\n",
    "                                                x[\"MonitorValue20\"],\n",
    "                                                x[\"MonitorValue21\"],\n",
    "                                                x[\"MonitorValue22\"],\n",
    "                                                x[\"MonitorValue23\"]\n",
    "                                                ),axis=1)\n",
    "linkou[\"max\"]=linkou.apply(lambda x:day_max(x[\"MonitorValue00\"],\n",
    "                                                x[\"MonitorValue01\"],\n",
    "                                                x[\"MonitorValue02\"],\n",
    "                                                x[\"MonitorValue03\"],\n",
    "                                                x[\"MonitorValue04\"],\n",
    "                                                x[\"MonitorValue05\"],\n",
    "                                                x[\"MonitorValue06\"],\n",
    "                                                x[\"MonitorValue07\"],\n",
    "                                                x[\"MonitorValue08\"],\n",
    "                                                x[\"MonitorValue09\"],\n",
    "                                                x[\"MonitorValue10\"],\n",
    "                                                x[\"MonitorValue11\"],\n",
    "                                                x[\"MonitorValue12\"],\n",
    "                                                x[\"MonitorValue13\"],\n",
    "                                                x[\"MonitorValue14\"],\n",
    "                                                x[\"MonitorValue15\"],\n",
    "                                                x[\"MonitorValue16\"],\n",
    "                                                x[\"MonitorValue17\"],\n",
    "                                                x[\"MonitorValue18\"],\n",
    "                                                x[\"MonitorValue19\"],\n",
    "                                                x[\"MonitorValue20\"],\n",
    "                                                x[\"MonitorValue21\"],\n",
    "                                                x[\"MonitorValue22\"],\n",
    "                                                x[\"MonitorValue23\"]\n",
    "                                                ),axis=1)"
   ]
  },
  {
   "cell_type": "code",
   "execution_count": 10,
   "metadata": {},
   "outputs": [],
   "source": [
    "linkou=linkou.drop(\"avg\",axis=1)"
   ]
  },
  {
   "cell_type": "code",
   "execution_count": null,
   "metadata": {},
   "outputs": [],
   "source": [
    "linkou.to_csv(\"temp01.csv\")"
   ]
  },
  {
   "cell_type": "code",
   "execution_count": 4,
   "metadata": {},
   "outputs": [],
   "source": [
    "linkou=pd.read_csv(\"temp01.csv\")"
   ]
  },
  {
   "cell_type": "code",
   "execution_count": 25,
   "metadata": {},
   "outputs": [],
   "source": [
    "linkou[\"x\"]=linkou[\"TWD97Lon\"]\n",
    "linkou[\"y\"]=linkou[\"TWD97Lat\"]\n",
    "linkou[\"pol\"]=linkou[\"ItemEngName\"]\n",
    "linkou[\"station\"]=linkou[\"SiteName\"]\n",
    "linkou[\"date\"]=linkou[\"MonitorDate\"].apply(date)\n",
    "kriging=linkou[[\"date\",\"x\",\"y\",\"avg\",\"max\",\"pol\",\"station\"]]\n",
    "kriging.to_csv(\"kriging_2.csv\",index=False)"
   ]
  },
  {
   "cell_type": "code",
   "execution_count": 20,
   "metadata": {},
   "outputs": [
    {
     "data": {
      "text/plain": [
       "'2020-03-21 00:00:00'"
      ]
     },
     "execution_count": 20,
     "metadata": {},
     "output_type": "execute_result"
    }
   ],
   "source": [
    "linkou[\"date\"]=linkou[\"MonitorDate\"].apply(date)"
   ]
  },
  {
   "cell_type": "code",
   "execution_count": 27,
   "metadata": {},
   "outputs": [
    {
     "data": {
      "text/plain": [
       "{'AMB_TEMP',\n",
       " 'CH4',\n",
       " 'CO',\n",
       " 'CO2',\n",
       " 'NMHC',\n",
       " 'NO',\n",
       " 'NO2',\n",
       " 'NOx',\n",
       " 'O3',\n",
       " 'PH_RAIN',\n",
       " 'PM10',\n",
       " 'PM2.5',\n",
       " 'RAINFALL',\n",
       " 'RAIN_COND',\n",
       " 'RAIN_INT',\n",
       " 'RH',\n",
       " 'SO2',\n",
       " 'THC',\n",
       " 'WD_HR',\n",
       " 'WIND_DIREC',\n",
       " 'WIND_SPEED',\n",
       " 'WS_HR'}"
      ]
     },
     "execution_count": 27,
     "metadata": {},
     "output_type": "execute_result"
    }
   ],
   "source": []
  },
  {
   "cell_type": "code",
   "execution_count": null,
   "metadata": {},
   "outputs": [],
   "source": []
  }
 ],
 "metadata": {
  "kernelspec": {
   "display_name": "Python 3",
   "language": "python",
   "name": "python3"
  },
  "language_info": {
   "codemirror_mode": {
    "name": "ipython",
    "version": 3
   },
   "file_extension": ".py",
   "mimetype": "text/x-python",
   "name": "python",
   "nbconvert_exporter": "python",
   "pygments_lexer": "ipython3",
   "version": "3.7.9"
  }
 },
 "nbformat": 4,
 "nbformat_minor": 4
}
